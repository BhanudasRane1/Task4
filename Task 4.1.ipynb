{
 "cells": [
  {
   "cell_type": "code",
   "execution_count": null,
   "id": "20c4ea84",
   "metadata": {},
   "outputs": [],
   "source": [
    "#Task-4.1 : Create image by yourself using python code "
   ]
  },
  {
   "cell_type": "code",
   "execution_count": 1,
   "id": "cdd33a5b",
   "metadata": {},
   "outputs": [],
   "source": [
    "#Import Modules \n",
    "import numpy \n",
    "import cv2"
   ]
  },
  {
   "cell_type": "code",
   "execution_count": 2,
   "id": "fefe9d74",
   "metadata": {},
   "outputs": [],
   "source": [
    "image = numpy.zeros((600,600,3))"
   ]
  },
  {
   "cell_type": "code",
   "execution_count": 3,
   "id": "22f7de7c",
   "metadata": {},
   "outputs": [],
   "source": [
    "#Creating own image\n",
    "\n",
    "Image = cv2.circle(image, (300,300), 300, [255,0,0], 3)\n",
    "Image = cv2.circle(image, (300,300), 250, [0,255,0], 3)\n",
    "Image = cv2.circle(image, (300,300), 200, [0,0,255], 3)\n",
    "Image = cv2.circle(image, (300,300), 150, [255,100,0], 3)\n",
    "Image = cv2.circle(image, (300,300), 100, [100,100,0], 3)\n",
    "Image = cv2.circle(image, (300,300), 50, [255,255,255], 3)\n",
    "Image = cv2.circle(image, (300,300), 25, [150,0,0], 3)\n",
    "\n",
    "cv2.imshow('Image',image)\n",
    "cv2.waitKey()\n",
    "cv2.destroyAllWindows()"
   ]
  },
  {
   "cell_type": "code",
   "execution_count": null,
   "id": "b6b5357f",
   "metadata": {},
   "outputs": [],
   "source": [
    "\n"
   ]
  },
  {
   "cell_type": "code",
   "execution_count": null,
   "id": "c9d34f7d",
   "metadata": {},
   "outputs": [],
   "source": []
  }
 ],
 "metadata": {
  "kernelspec": {
   "display_name": "Python 3",
   "language": "python",
   "name": "python3"
  },
  "language_info": {
   "codemirror_mode": {
    "name": "ipython",
    "version": 3
   },
   "file_extension": ".py",
   "mimetype": "text/x-python",
   "name": "python",
   "nbconvert_exporter": "python",
   "pygments_lexer": "ipython3",
   "version": "3.8.8"
  }
 },
 "nbformat": 4,
 "nbformat_minor": 5
}
