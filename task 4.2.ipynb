{
 "cells": [
  {
   "cell_type": "code",
   "execution_count": null,
   "id": "8ce576b4",
   "metadata": {},
   "outputs": [],
   "source": [
    "# Task-2 :Take 2 image crop some part of both image and swap it. "
   ]
  },
  {
   "cell_type": "code",
   "execution_count": 7,
   "id": "97cff256",
   "metadata": {},
   "outputs": [],
   "source": [
    "import numpy as np\n",
    "import cv2"
   ]
  },
  {
   "cell_type": "code",
   "execution_count": 8,
   "id": "7865410d",
   "metadata": {},
   "outputs": [
    {
     "data": {
      "text/plain": [
       "(500, 500, 3)"
      ]
     },
     "execution_count": 8,
     "metadata": {},
     "output_type": "execute_result"
    }
   ],
   "source": [
    "first = cv2.imread(\"1.jpg\")\n",
    "cv2.imshow(\"first\",first)\n",
    "cv2.waitKey()\n",
    "cv2.destroyAllWindows()\n",
    "first.shape"
   ]
  },
  {
   "cell_type": "code",
   "execution_count": 9,
   "id": "02dcc7bd",
   "metadata": {},
   "outputs": [
    {
     "data": {
      "text/plain": [
       "(500, 500, 3)"
      ]
     },
     "execution_count": 9,
     "metadata": {},
     "output_type": "execute_result"
    }
   ],
   "source": [
    "second = cv2.imread(\"2.jpg\")\n",
    "cv2.imshow(\"second\",second)\n",
    "cv2.waitKey()\n",
    "cv2.destroyAllWindows()\n",
    "second.shape"
   ]
  },
  {
   "cell_type": "code",
   "execution_count": 10,
   "id": "be51399d",
   "metadata": {
    "scrolled": true
   },
   "outputs": [],
   "source": [
    "crop_first = first[10:360,100:320]\n",
    "cv2.imshow(\"crop_first\",crop_first)\n",
    "cv2.waitKey()\n",
    "cv2.destroyAllWindows()"
   ]
  },
  {
   "cell_type": "code",
   "execution_count": 11,
   "id": "cd14a022",
   "metadata": {},
   "outputs": [],
   "source": [
    "crop_second = second[0:350,100:320]\n",
    "cv2.imshow(\"crop_second\",crop_second)\n",
    "cv2.waitKey()\n",
    "cv2.destroyAllWindows()"
   ]
  },
  {
   "cell_type": "code",
   "execution_count": 12,
   "id": "aaf44861",
   "metadata": {},
   "outputs": [],
   "source": [
    "second[10:360,100:320]=crop_first\n",
    "cv2.imshow(\"swap\",second)\n",
    "cv2.waitKey()\n",
    "cv2.destroyAllWindows()"
   ]
  },
  {
   "cell_type": "code",
   "execution_count": null,
   "id": "629289d4",
   "metadata": {},
   "outputs": [],
   "source": []
  }
 ],
 "metadata": {
  "kernelspec": {
   "display_name": "Python 3",
   "language": "python",
   "name": "python3"
  },
  "language_info": {
   "codemirror_mode": {
    "name": "ipython",
    "version": 3
   },
   "file_extension": ".py",
   "mimetype": "text/x-python",
   "name": "python",
   "nbconvert_exporter": "python",
   "pygments_lexer": "ipython3",
   "version": "3.8.8"
  }
 },
 "nbformat": 4,
 "nbformat_minor": 5
}
