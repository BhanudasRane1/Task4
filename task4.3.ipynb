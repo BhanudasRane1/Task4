{
 "cells": [
  {
   "cell_type": "code",
   "execution_count": null,
   "id": "2ea68664",
   "metadata": {},
   "outputs": [],
   "source": [
    "# Task 3: Take 2 image and combine it to form single image. For example collage "
   ]
  },
  {
   "cell_type": "code",
   "execution_count": 6,
   "id": "b18d7f7c",
   "metadata": {},
   "outputs": [],
   "source": [
    "import numpy as np\n",
    "import cv2"
   ]
  },
  {
   "cell_type": "code",
   "execution_count": 7,
   "id": "72349209",
   "metadata": {},
   "outputs": [
    {
     "data": {
      "text/plain": [
       "(500, 500, 3)"
      ]
     },
     "execution_count": 7,
     "metadata": {},
     "output_type": "execute_result"
    }
   ],
   "source": [
    "first = cv2.imread(\"1.jpg\")\n",
    "cv2.imshow(\"first\",first)\n",
    "cv2.waitKey()\n",
    "cv2.destroyAllWindows()\n",
    "first.shape"
   ]
  },
  {
   "cell_type": "code",
   "execution_count": 8,
   "id": "65441855",
   "metadata": {},
   "outputs": [
    {
     "data": {
      "text/plain": [
       "(500, 500, 3)"
      ]
     },
     "execution_count": 8,
     "metadata": {},
     "output_type": "execute_result"
    }
   ],
   "source": [
    "second = cv2.imread(\"2.jpg\")\n",
    "cv2.imshow(\"second\",second)\n",
    "cv2.waitKey()\n",
    "cv2.destroyAllWindows()\n",
    "second.shape"
   ]
  },
  {
   "cell_type": "code",
   "execution_count": 9,
   "id": "3d245b07",
   "metadata": {},
   "outputs": [],
   "source": [
    "res = np.concatenate((first,second),axis=1)"
   ]
  },
  {
   "cell_type": "code",
   "execution_count": 10,
   "id": "88812ed2",
   "metadata": {},
   "outputs": [],
   "source": [
    "cv2.imshow(\"Res\",res)\n",
    "cv2.waitKey()\n",
    "cv2.destroyAllWindows()"
   ]
  },
  {
   "cell_type": "code",
   "execution_count": null,
   "id": "4b6cc6b8",
   "metadata": {},
   "outputs": [],
   "source": []
  }
 ],
 "metadata": {
  "kernelspec": {
   "display_name": "Python 3",
   "language": "python",
   "name": "python3"
  },
  "language_info": {
   "codemirror_mode": {
    "name": "ipython",
    "version": 3
   },
   "file_extension": ".py",
   "mimetype": "text/x-python",
   "name": "python",
   "nbconvert_exporter": "python",
   "pygments_lexer": "ipython3",
   "version": "3.8.8"
  }
 },
 "nbformat": 4,
 "nbformat_minor": 5
}
